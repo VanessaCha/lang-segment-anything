{
 "cells": [
  {
   "cell_type": "code",
   "execution_count": 1,
   "metadata": {},
   "outputs": [
    {
     "name": "stderr",
     "output_type": "stream",
     "text": [
      "d:\\Python\\lib\\site-packages\\tqdm\\auto.py:22: TqdmWarning: IProgress not found. Please update jupyter and ipywidgets. See https://ipywidgets.readthedocs.io/en/stable/user_install.html\n",
      "  from .autonotebook import tqdm as notebook_tqdm\n",
      "Downloading (…)ingDINO_SwinB.cfg.py: 100%|██████████| 1.01k/1.01k [00:00<00:00, 1.94MB/s]\n"
     ]
    },
    {
     "name": "stdout",
     "output_type": "stream",
     "text": [
      "final text_encoder_type: bert-base-uncased\n"
     ]
    },
    {
     "name": "stderr",
     "output_type": "stream",
     "text": [
      "Downloading tokenizer_config.json: 100%|██████████| 28.0/28.0 [00:00<00:00, 54.5kB/s]\n",
      "Downloading config.json: 100%|██████████| 570/570 [00:00<00:00, 1.11MB/s]\n",
      "Downloading vocab.txt: 100%|██████████| 232k/232k [00:00<00:00, 450kB/s]\n",
      "Downloading tokenizer.json: 100%|██████████| 466k/466k [00:00<00:00, 592kB/s]\n",
      "Downloading model.safetensors: 100%|██████████| 440M/440M [00:28<00:00, 15.6MB/s] \n",
      "Downloading (…)no_swinb_cogcoor.pth: 100%|██████████| 938M/938M [00:59<00:00, 15.7MB/s] \n"
     ]
    },
    {
     "name": "stdout",
     "output_type": "stream",
     "text": [
      "Model loaded from C:\\Users\\yeeqi\\.cache\\huggingface\\hub\\models--ShilongLiu--GroundingDINO\\snapshots\\a94c9b567a2a374598f05c584e96798a170c56fb\\groundingdino_swinb_cogcoor.pth \n",
      " => _IncompatibleKeys(missing_keys=[], unexpected_keys=['label_enc.weight', 'bert.embeddings.position_ids'])\n"
     ]
    },
    {
     "name": "stderr",
     "output_type": "stream",
     "text": [
      "Downloading: \"https://dl.fbaipublicfiles.com/segment_anything/sam_vit_h_4b8939.pth\" to C:\\Users\\yeeqi/.cache\\torch\\hub\\checkpoints\\sam_vit_h_4b8939.pth\n",
      "100%|██████████| 2.39G/2.39G [01:33<00:00, 27.4MB/s]\n"
     ]
    },
    {
     "ename": "",
     "evalue": "",
     "output_type": "error",
     "traceback": [
      "\u001b[1;31mThe Kernel crashed while executing code in the the current cell or a previous cell. Please review the code in the cell(s) to identify a possible cause of the failure. Click <a href='https://aka.ms/vscodeJupyterKernelCrash'>here</a> for more info. View Jupyter <a href='command:jupyter.viewOutput'>log</a> for further details."
     ]
    }
   ],
   "source": [
    "import warnings\n",
    "import numpy as np\n",
    "import matplotlib.pyplot as plt\n",
    "import requests\n",
    "from PIL import Image\n",
    "from io import BytesIO\n",
    "from lang_sam import LangSAM\n",
    "\n",
    "image = \"img1.jpg\"\n",
    "text_prompt = \"clothes\"\n",
    "\n",
    "def save_mask(mask_np, filename):\n",
    "    mask_image = Image.fromarray((mask_np * 255).astype(np.uint8))\n",
    "    mask_image.save(filename)\n",
    "\n",
    "def display_image_with_masks(image, masks):\n",
    "    num_masks = len(masks)\n",
    "\n",
    "    fig, axes = plt.subplots(1, num_masks + 1, figsize=(15, 5))\n",
    "    axes[0].imshow(image)\n",
    "    axes[0].set_title(\"Original Image\")\n",
    "    axes[0].axis('off')\n",
    "\n",
    "    for i, mask_np in enumerate(masks):\n",
    "        axes[i+1].imshow(mask_np, cmap='gray')\n",
    "        axes[i+1].set_title(f\"Mask {i+1}\")\n",
    "        axes[i+1].axis('off')\n",
    "\n",
    "    plt.tight_layout()\n",
    "    plt.show()\n",
    "\n",
    "def display_image_with_boxes(image, boxes, logits):\n",
    "    fig, ax = plt.subplots()\n",
    "    ax.imshow(image)\n",
    "    ax.set_title(\"Image with Bounding Boxes\")\n",
    "    ax.axis('off')\n",
    "\n",
    "    for box, logit in zip(boxes, logits):\n",
    "        x_min, y_min, x_max, y_max = box\n",
    "        confidence_score = round(logit.item(), 2)  # Convert logit to a scalar before rounding\n",
    "        box_width = x_max - x_min\n",
    "        box_height = y_max - y_min\n",
    "\n",
    "        # Draw bounding box\n",
    "        rect = plt.Rectangle((x_min, y_min), box_width, box_height, fill=False, edgecolor='red', linewidth=2)\n",
    "        ax.add_patch(rect)\n",
    "\n",
    "        # Add confidence score as text\n",
    "        ax.text(x_min, y_min, f\"Confidence: {confidence_score}\", fontsize=8, color='red', verticalalignment='top')\n",
    "\n",
    "    plt.show()\n",
    "\n",
    "def print_bounding_boxes(boxes):\n",
    "    print(\"Bounding Boxes:\")\n",
    "    for i, box in enumerate(boxes):\n",
    "        print(f\"Box {i+1}: {box}\")\n",
    "\n",
    "def print_detected_phrases(phrases):\n",
    "    print(\"\\nDetected Phrases:\")\n",
    "    for i, phrase in enumerate(phrases):\n",
    "        print(f\"Phrase {i+1}: {phrase}\")\n",
    "\n",
    "def print_logits(logits):\n",
    "    print(\"\\nConfidence:\")\n",
    "    for i, logit in enumerate(logits):\n",
    "        print(f\"Logit {i+1}: {logit}\")\n",
    "\n",
    "def main():\n",
    "    warnings.filterwarnings(\"ignore\")\n",
    "\n",
    "    try:\n",
    "        image_pil = Image.open(image).convert(\"RGB\")\n",
    "        model = LangSAM()\n",
    "        masks, boxes, phrases, logits = model.predict(image_pil, text_prompt)\n",
    "        \n",
    "        if len(masks) == 0:\n",
    "            print(f\"No objects of the '{text_prompt}' prompt detected in the image.\")\n",
    "        else:\n",
    "            # Convert masks to numpy arrays\n",
    "            masks_np = [mask.squeeze().cpu().numpy() for mask in masks]\n",
    "\n",
    "            # Display the original image and masks side by side\n",
    "            display_image_with_masks(image_pil, masks_np)\n",
    "\n",
    "            # Display the image with bounding boxes and confidence scores\n",
    "            display_image_with_boxes(image_pil, boxes, logits)\n",
    "\n",
    "            # Save the masks\n",
    "            for i, mask_np in enumerate(masks_np):\n",
    "                mask_path = f\"image_mask_{i+1}.png\"\n",
    "                save_mask(mask_np, mask_path)\n",
    "\n",
    "\n",
    "    except (requests.exceptions.RequestException, IOError) as e:\n",
    "        print(f\"Error: {e}\")\n",
    "    \n",
    "if __name__ == \"__main__\":\n",
    "    main()\n",
    "\n",
    "\n"
   ]
  }
 ],
 "metadata": {
  "kernelspec": {
   "display_name": "base",
   "language": "python",
   "name": "python3"
  },
  "language_info": {
   "codemirror_mode": {
    "name": "ipython",
    "version": 3
   },
   "file_extension": ".py",
   "mimetype": "text/x-python",
   "name": "python",
   "nbconvert_exporter": "python",
   "pygments_lexer": "ipython3",
   "version": "3.11.5"
  },
  "orig_nbformat": 4
 },
 "nbformat": 4,
 "nbformat_minor": 2
}
